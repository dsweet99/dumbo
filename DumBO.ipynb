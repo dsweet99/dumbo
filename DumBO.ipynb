{
 "cells": [
  {
   "cell_type": "code",
   "execution_count": null,
   "metadata": {},
   "outputs": [],
   "source": [
    "%matplotlib inline\n",
    "\n",
    "import time\n",
    "\n",
    "import numpy as np\n",
    "import matplotlib.pyplot as plt\n",
    "from IPython.display import clear_output\n",
    "\n",
    "import dumbo"
   ]
  },
  {
   "cell_type": "markdown",
   "metadata": {},
   "source": [
    "# DumBO: The simplest Bayesian optimizer\n",
    "\n",
    "**tldr** Teach the basic concepts of Bayesian optimization by building a simplistic optimizer.\n",
    "\n",
    "\n",
    "Engineers and scientists use Bayesian optimization to tune recommender systems used in social media, streaming video, etc.; ML/AI models; a free electron laser used for physics, chemistry and other experiments; software and hardware systems; and much more. In this article, we’re going to design a simple Bayesian optimization algorithm — DumBO — and build it from scratch with NumPy. We’ll discuss and implement the core aspects of a Bayesian optimizer: a surrogate model, an acquisition function, and an embedded, offline optimizer. Finally, we’ll apply DumBO to an ML hyperparameter optimization task. We’ll also see what makes Bayesian optimization different from related algorithms and well-suited to the types of problems mentioned above."
   ]
  },
  {
   "cell_type": "markdown",
   "metadata": {},
   "source": [
    "## The setting\n",
    "\n",
    "Let's imagine that you want to maximize the revenue of your awesome new product. Maybe the product is a new AI-powered marvel that charges a fee for each API call. Maybe there are multiple tiers of API call. Maybe some customers get special rates for long-term commitment. There's some complexity, but since your business survives by revenue, it's clear that your metric is revenue/day.\n",
    "\n",
    "You configure your system with a file containing multiple feature flags, thresholds, weights, etc. The values in the config file affect the behavior of the AI model, the latency of the model's responses, the throughput of the API endpoint, and even which version of the AI model gets queried.\n",
    "\n",
    "You presume that the config settings in place right now are not the ones that produce the maximum revenue. It's not that you didn't choose reasonable settings. The system runs, and users like it, after all. But would more people sign up if you used Alan's version of the model instead of Ada's? They used very different -- but equally sensible -- approaches to model building, so it's not obvious which one is better. Also, the config parameters that control the throughput and latency seem to fight each other. It's really not clear what values would work best -- especially since the objective is to increase *revenue* not to achieve any particular latency or throughput.\n",
    "\n",
    "You could just try out a few different configs and see what revenue they produce. but there are multiple parameters to consider, the revenue varies a lot from day to day even when you don't change the config, and you don't want to unnecessarily expose users to wild swings in API behavior.\n",
    "\n",
    "It's this kind of problem to which we apply Bayesian optimization:\n",
    "- The metric, or *objective*, is expensive to measure. It might take time, incur risk, or just cost money to measure the value of a config.\n",
    "- The measurements are noisy due to natural variation in the system.\n",
    "- While you can measure metric values for a config, you can't measure helpful things like first or second derivatives of the metric with respect to the parameters. We usually call this type of system a \"black box\".\n",
    "\n",
    "In summary, Bayesian optimization is said to perform **black-box optimization of noisy, expensive objectives**. When the objective is measured by running an experiment, as is the case with your API, we say that a Bayesian optimizer is being used for **experimental optimization**.\n",
    "\n",
    "Let's build the simplest Bayesian optimizer we can and use it to optimize the revenue of your API.\n",
    "\n",
    "Since the API in the story above is just make-believe, we can't really run it and measure the revenue. Instead, we'll write a simple Python function, `measure()`, as a stand-in for measurements of revenue."
   ]
  },
  {
   "cell_type": "code",
   "execution_count": null,
   "metadata": {},
   "outputs": [],
   "source": [
    "def measure(x):\n",
    "    return float(1 - .0950 + (\n",
    "        -(((x - .3333)**2).mean())\n",
    "        + .1*np.sin(30*x).mean()\n",
    "        + .01*np.random.normal()\n",
    "    ))"
   ]
  },
  {
   "cell_type": "markdown",
   "metadata": {},
   "source": [
    "Think of `measure()` as a simulation of your whole system. The argument `x` represents the values in the config file. The output of `measure()` is revenue. Revenue is a little noisy -- as simulated by `.01*np.random.normal()`. A real measurement might take three days to run, so `measure()` simulates a three-day process.\n",
    "\n",
    "For the sake of discussion below, I'm going to call the revenue `y`. Then we can compactly describe the way that revenue varies with the values in the config file as the function `y(x)`. Given a single value of `x`, we can determine (to within the noise) `y` by `y = measure(x)`.\n",
    "\n",
    "That's the system, expressed in Python. Now let's find the config that maximizes revenue -- I mean the `x` that maximizes `y`."
   ]
  },
  {
   "cell_type": "markdown",
   "metadata": {},
   "source": [
    "## The Algorithm\n",
    "\n",
    "Bayesian optimization has three pieces:\n",
    "\n",
    "- **Surrogate function**: A model of the function `y(x)`. This is a regression fit to the measurements. The regression has the important property that it estimates not only the expected value of `y(x)` -- call it `y_ex(x)` -- but also the uncertainty in `y(x)`, `y_se(x)`.\n",
    "- **Acquisition function**: A function (analytic, implemented in Python) of the outputs of the surrogate: `af(y(x), y_se(x))`. It tells how much we desire to measure the value of `y` at a given point `x`.\n",
    "- **Optimizer**: We maximize `af(y(x), y_se(x))` over `x`. In words: We find the value of `x` that is the most desirable to measure.\n",
    "\n",
    "Actually, there's a fourth piece, initialization. It's underappreciated, perhaps, because it usually just comes down to choosing one or more random (or [quasi-random](https://en.wikipedia.org/wiki/Low-discrepancy_sequence)) starting values.\n",
    "\n",
    "\n",
    "When initializing with a single random value, the algorithm looks like this:\n",
    "\n",
    "```\n",
    "Init: Measure one or more (quasi-)random values of `x`, and create a data set containing x and y(x).\n",
    "\n",
    "10. Build a surrogate from the data set.\n",
    "20. Optimize an acquisition function to find the most desirable x to measure.\n",
    "30. Take a measurement at x, y(x), add it to the data set.\n",
    "40. GOTO 10\n",
    "```\n",
    "\n",
    "Notice that you collect all of your measurements in a data set, so that every time you build a surrogate you use all of the data collected so far. A Bayesian optimizer is *data efficient*, in part, because it uses every measurement collected so far to decide where to measure next. (Not all optimization algorithms work this way.)\n",
    "\n",
    "Let's walk through each step in the algorithm above and build the simplest version of it that we can. For example, for the `Init` step, we'll just measure a single random value of `x` and put it (and `y(x)`) in a data set.\n",
    "\n",
    "Next, we'll make a simple surrogate.\n",
    "   "
   ]
  },
  {
   "cell_type": "markdown",
   "metadata": {},
   "source": [
    "## Surrogate function\n",
    "\n",
    "The surrogate function is a regression of the measured values `y(x)` on `x`. The surrogate provides estimates of `y(x)` at unmeasured values of `x`. Interestingly, it also provides estimates of the uncertainty of `y(x)`. We'll call the two surrogate outputs the expectation and the standard error: `y_ex(x)` and `y_se(x)`.\n",
    "\n",
    "Bayesian optimization algorithms usually use an ML method called [Gaussian process regression](http://krasserm.github.io/2018/03/19/gaussian-processes/), or GPR, for the surrogate. But not us. We're going to keep it simple. Dumb, even.\n",
    "\n",
    "When the surrogate is asked, \"What are your expectation and standard error at `x`?\", it will look for the measurement in the data set that is closest to `x`, call it `y_nn(x_nn)` and report:\n",
    "```\n",
    "y_ex(x) = y_nn(x_nn)\n",
    "y_var(x) = distance(x, x_nn)\n",
    "y_se(x) = np.sqrt( y_var )\n",
    "```\n",
    "In other words:\n",
    "\n",
    "- The expectation, `y_ex(x)`, is the `y` value of the nearest-neighbor measurement.\n",
    "- To make an estimate of `y_se(x)`, we'll first estimate the variance, `y_var(x)` as the distance to the nearest neighbor, then return `y_se(x) = sqrt(y_var(x))`.\n",
    "\n",
    "It's simple, but it captures basic properties of GPRs:\n",
    "\n",
    "- Estimates of `y(x)` and `y_se(x)` are based on distances to measurements.\n",
    "- `y_se(x)` increases with distance from measurements.\n",
    "- `y(x)` are more similar to nearer measurements than to further measurements.\n",
    "\n",
    "The implementation of the surrogate is:"
   ]
  },
  {
   "cell_type": "code",
   "execution_count": null,
   "metadata": {},
   "outputs": [],
   "source": [
    "def surrogate(x_m, y_m, x):\n",
    "    distance = np.sqrt( ((x - x_m)**2) )\n",
    "    i = np.argmin(distance)\n",
    "    y_ex = y_m[i]\n",
    "    y_var = distance[i]\n",
    "    y_se = np.sqrt(y_var)\n",
    "    return y_ex, y_se"
   ]
  },
  {
   "cell_type": "markdown",
   "metadata": {},
   "source": [
    "Let's take a look at the surogate function after we've initialized with a single measurement. We'll take `x` as a single real parameter in one dimension lying in `[0,1]`, and measure one value at `x=0.5`. Say we measure `y(x=0.5) = measure(x=0.5) = 0.947`."
   ]
  },
  {
   "cell_type": "code",
   "execution_count": null,
   "metadata": {},
   "outputs": [],
   "source": [
    "# Take one measurement at x=0.5\n",
    "x_m = np.array([.5])\n",
    "y_m = np.array([0.947])\n",
    "\n",
    "\n",
    "# Choose some values of x at which to compute the surrogate's estimates.\n",
    "x = np.linspace(0, 1, 100)\n",
    "y_and_se = np.array([surrogate(x_m, y_m, xx) for xx in x])\n",
    "\n",
    "# The surrogates estimates of the expectations and standard errors of y.\n",
    "y_ex = y_and_se[:,0]\n",
    "y_se = y_and_se[:,1]\n",
    "\n",
    "# Pretty plot\n",
    "plt.fill_between(\n",
    "        x,\n",
    "        y_ex - y_se,\n",
    "        y_ex + y_se,\n",
    "        alpha=.5,\n",
    "    linewidth=1\n",
    "    );\n",
    "plt.plot(x, y_ex, '--', color=\"#777777\")\n",
    "plt.plot(x_m[0], y_m[0], 'ok', fillstyle='none');\n",
    "plt.xlabel('x')\n",
    "plt.ylabel('y')\n",
    "plt.title('Surrogate function\\nOne measurement in one dimension')\n",
    "plt.show()"
   ]
  },
  {
   "cell_type": "markdown",
   "metadata": {},
   "source": [
    "Notice how the best estimate of `y(x)` is everywhere equal to 0.947, since, being the only measurement, `x=0.5` is the nearest measurement all other `x` values.\n",
    "\n",
    "Also note that the standard error, `y_se(x)`, represented by the height of the blue region, grows with distance from the measurement."
   ]
  },
  {
   "cell_type": "markdown",
   "metadata": {},
   "source": [
    "\n",
    "## Acquisition function\n",
    "\n",
    "Typically we're interested in measuring points where `y` is expected to have a high value, because, after all, our goal is to get the API to produce revenue (`y`) and measuring revenue means running the app and *producing* revenue.\n",
    "\n",
    "We're interested in one other thing, though: Improving the surrogate. The better the surrogate, the better decision we'll make about where to measure. To improve the surrogate we measure at `x`'s where `y_se(x)` is larger. When `y_se(x)` is larger, we are more uncertain of the true value of `y(x)`. Measuring at `x` reduces `y_se(x)` of the next surrogate.\n",
    "\n",
    "Summarizing: We desire to choose an `x` that will both produce good revenue and be a good data point for improving the surrogate. In ML-speak, we want to *balance exploitation with exploration*.\n",
    "\n",
    "A simple acquisition function that balances exploitation and exploration is called **upper confidence bound** (UCB). It is the sum of two terms:\n",
    "\n",
    "- exploitation: y_ex\n",
    "- exploration: y_se\n",
    "\n",
    "Now, UCB has a reputation for exploring a little too much, so people often use an acquisition function called **expected improvement**, which doesn't explore too much.\n",
    "\n",
    "Expected improvement is a more complicated function to describe and implement. Wanting to be simple, DumBO will stick with UCB and just divide the exploration term by two (reduce exploration)."
   ]
  },
  {
   "cell_type": "code",
   "execution_count": null,
   "metadata": {},
   "outputs": [],
   "source": [
    "def acquisition_function(y_ex, y_se):\n",
    "    return y_ex + y_se/2"
   ]
  },
  {
   "cell_type": "markdown",
   "metadata": {},
   "source": [
    "## Optimizer\n",
    "\n",
    "We're only going to optimize over a one-dimensional `x` in this example. That makes optimization easy. We just generate a bunch of evenly-spaced `x` values and choose the one that maximizes `acquisition_function(y_ex(x), y_se(x))`. This is sometimes called a grid search (or a sweep)."
   ]
  },
  {
   "cell_type": "code",
   "execution_count": null,
   "metadata": {},
   "outputs": [],
   "source": [
    "def optimize(x_m, y_m):\n",
    "    x = np.linspace(0,1,1000)\n",
    "    af = np.array([acquisition_function(*surrogate(x_m, y_m, xx)) for xx in x])\n",
    "    return x[np.argmax(af)]"
   ]
  },
  {
   "cell_type": "markdown",
   "metadata": {},
   "source": [
    "Using a one-dimensional `x` also happens to make visualization and explanation easier, so it's a good place to start.\n",
    "\n",
    "Notice that there's an optimizer embedded in our Bayesian optimizer. The optimizer used in this step is of a different kind than a Bayesian one. It expects the function it's optimizing -- `acquisition_function()` -- to be fairly fast to evaluate. It will take microseconds to call `acquisition_function()` rather than the days it takes to call `measure()`.\n",
    "\n",
    "Bayesian optimization (BO) packages may employ, at this step, optimizers such as [conjugate-gradient (CG)](https://en.wikipedia.org/wiki/Conjugate_gradient_method), [BFGS](https://en.wikipedia.org/wiki/Broyden–Fletcher–Goldfarb–Shanno_algorithm), [CMA-ES](https://arxiv.org/abs/1604.00772), or [stochastic gradient descent (SGD)](https://leon.bottou.org/research/stochastic). Compare them:\n",
    "\n",
    "| Algorithm | Derivatives? | Data Used | Noise Handling |\n",
    "| --- | --- | --- | --- |\n",
    "| CG | 1st, 2nd | Current | None |\n",
    "| BFGS | 1st | Current | None |\n",
    "| SGD | 1st | Recent | Sampling |\n",
    "| CMA-ES | None | Recent | Sampling |\n",
    "| BO | None | All | Modeling |\n",
    "Table 1. Comparison of optimization algorithms\n",
    "\n",
    "Some algorithms use only the current function values (and derivatives) measured. Some use the last few measurements. Some algorithms ignore noise. Some rely on repeated samples to \"average out\" the noise. BO uses all data and models the noise directly. These properties make it effective at solving industrial problems where the number of measurements must be kept small, and the measurements are unavoidably noisy.\n",
    "\n",
    "When it's time to optimize the acquisition function, one of the other optimizers on the list is more appropriate. After all, the acquisition function is a pure mathematical function, of which you could calculate derivatives if you desired. The same applies to the underlying surrogate.\n",
    "\n",
    "The open source Bayesian optimization package [Ax](https://ax.dev) applies [PyTorch's](https://pytorch.org) auto-differentiation to the acquisition function (and surrogate). This way, it can use BFGS to optimize the acquisition function. Another package, [SKOpt](https://scikit-optimize.github.io/stable/auto_examples/bayesian-optimization.html), also uses BFGS, but calculates the gradients without auto-differentiation. In instances where a non-differentiable acquisition function or surrogate is used, for example, one might use CMA-ES as the embedded optimizer.\n",
    "\n",
    "DumBO keeps it simple, however, by using grid search. Let's see it in action."
   ]
  },
  {
   "cell_type": "markdown",
   "metadata": {},
   "source": [
    "# A run of DumBO\n",
    "\n",
    "Below we'll animate a Bayesian optimization, one measurement at a time.\n",
    "\n",
    "At each iteration, we'll:\n",
    "- Measure a value using `measure()`.\n",
    "- Estimate `y_ex(x)` and `y_se(x)` with `surrogate()`.\n",
    "- Optimize (with `optimize()`) over the UCB acquisition function, `acquisition_function()` to find the most desirable point to measure next.\n",
    "\n",
    "You'll see two plots:\n",
    "1. Left: The surrogate and measurements\n",
    "2. Right: The best measurement so far vs. iteration number"
   ]
  },
  {
   "cell_type": "code",
   "execution_count": null,
   "metadata": {},
   "outputs": [],
   "source": [
    "# Helper, plotting functions\n",
    "def plot_surrogate(ax, x_m, y_m):\n",
    "    x = np.linspace(0,1,100)\n",
    "    ev = np.array([surrogate(x_m, y_m, xx) for xx in x])\n",
    "    y_ex = ev[:,0]\n",
    "    y_se = np.sqrt(ev[:,1])\n",
    "    \n",
    "    ax.plot(x_m, y_m, 'o');\n",
    "    ax.plot(x, y_ex, '--');\n",
    "\n",
    "    ax.fill_between(\n",
    "        x,\n",
    "        y_ex - y_se,\n",
    "        y_ex + y_se,\n",
    "        alpha=.5,\n",
    "    linewidth=1\n",
    "    );\n",
    "    \n",
    "def vline(ax, x0, color='black'):\n",
    "    c = ax.axis()\n",
    "    ax.autoscale(False)\n",
    "    ax.plot([x0, x0], [c[2], c[3]], '--', linewidth=1, color=color)\n",
    "    \n",
    "def plot_both(x_m, y_m, trace):\n",
    "    phi = ( 1 + np.sqrt(5) ) / 2\n",
    "    xlabel = 'number of measurements'\n",
    "    width = 10\n",
    "    clear_output(wait=True)\n",
    "    fig, (ax1, ax2) = plt.subplots(1,2, figsize=(width, width/phi/phi))\n",
    "    plot_surrogate(ax1, x_m, y_m)\n",
    "    x_max = x_m[np.argmax(y_m)]\n",
    "    ax1.set_title(f\"x_max = {x_max:.4f}\")\n",
    "    vline(ax1, x_max)\n",
    "    ax1.set_xlabel(xlabel)\n",
    "    ax1.set_ylabel('x$100,000')\n",
    "    ax2.plot(trace, '--');\n",
    "    ax2.plot(y_m, '.k', alpha=.5);\n",
    "    ax2.set_title(f'y_max = {y_m.max():.4f}')\n",
    "    ax2.set_xlabel(xlabel)\n",
    "    ax2.set_ylabel('x$100,000')\n",
    "    \n",
    "    plt.show()"
   ]
  },
  {
   "cell_type": "code",
   "execution_count": null,
   "metadata": {},
   "outputs": [],
   "source": [
    "# Animation\n",
    "\n",
    "# A seed makes this notebooks' results reproducible\n",
    "# Feel free to change this value or comment out\n",
    "#  the line altogether.\n",
    "np.random.seed(3)\n",
    "\n",
    "# Initialize by measuring at 0.5\n",
    "x_m = np.random.uniform(size=(1,))\n",
    "y_m = np.array([measure(xx) for xx in x_m])\n",
    "\n",
    "# Collect a trace of best-y-so-far\n",
    "trace = [y_m[0]]\n",
    "\n",
    "# Iterate\n",
    "for _ in range(15):\n",
    "    # Find most desirable x to measure\n",
    "    x = optimize(x_m, y_m)\n",
    "    \n",
    "    # Measure y at x\n",
    "    y = measure(x)\n",
    "    \n",
    "    # Make plots\n",
    "    plot_both(x_m, y_m, trace)\n",
    "    \n",
    "    # Add measurement to data set\n",
    "    x_m = np.append(x_m, x)\n",
    "    y_m = np.append(y_m, y)\n",
    "    trace.append(y_m.max())\n",
    "\n",
    "    # Pause to allow you to marvel at the plots\n",
    "    time.sleep(.1)"
   ]
  },
  {
   "cell_type": "markdown",
   "metadata": {},
   "source": [
    "If you think that the surrogate on the left looks a little too jagged, you're not alone. A Bayesian optimizer that uses GPR would produce a much smoother surrogate.\n",
    "\n",
    "On the right we see that the optimizer finds new maxima but then proceeds to measure worse values of `y` afterward. It's \"exploring\" by proposing `x` values where it is more unsure of what value of `y` will be measured. As the surrogate improves (uncertainty lessens) the measurements tend to be closer and closer to the maximum.\n",
    "\n",
    "You've done it. You found a configuration (`x`) that produces more revenue (`y`) than your initial config file did.\n",
    "\n",
    "Let's turn now to another situation where Bayesian optimization can be fruitfully applied, hyperparameter optimization of ML/AI models."
   ]
  },
  {
   "cell_type": "markdown",
   "metadata": {},
   "source": [
    "# Hyperparameter optimization\n",
    "\n",
    "Machine learning models -- from the very large, like [GPT-3](https://en.wikipedia.org/wiki/GPT-3), to the more typical size that you might train in your work or studies -- rely on the setting of multiple hyperparameters. Hyperparameters are design decisions that are made before training, like\n",
    "- How many layers in my neural net?\n",
    "- How strong should the L2 penalty be?\n",
    "- How high should the learning rate be?\n",
    "- Which optimizer should I use?\n",
    "- How many signals (features) should I include?\n",
    "\n",
    "and so on. Your choice of hyperparameters will affect how well the model works out-of-sample -- how well it generalizes -- as measured by the average error on a held-out test set of data. That evaluation will be a single number (test-set error; without derivatives). In many projects, training a model with a single set of hyperparameters can take a long time. Checking Table 1, we see that this is a problem well-suited to either CMA-ES or Bayesian optimization.\n",
    "\n",
    "Looking at [XGBoost](https://xgboost.readthedocs.io/en/stable/), the popular gradient boosted decision tree package, we find hyperparameters like:\n",
    "- max_depth - The maximum depth of a tree.\n",
    "- subsample - Subsample ratio of the training instances.\n",
    "- min_child_weight - Minimum sum of instance weight needed in a child.\n",
    "- colsample_bytree - The subsample ratio of columns when constructing each tree.\n",
    "- eta - Step size shrinkage used in update to prevents overfitting.\n",
    "- num_parallel_tree - Number of parallel trees constructed during each iteration.\n",
    "\n",
    "The descriptions above are copied from the [XGBoost documentation](https://xgboost.readthedocs.io/en/stable/parameter.html). I won't pretend to deeply understand what they're all doing. I *definitely* won't claim to know how they all interact to affect the out-of-sample performance of a model. I will probably use the default values and tweak them a little one by one to see how the test-set error changes before giving up. This suboptimal, to put it kindly.\n",
    "\n",
    "Fortunately, we have DumBO. DumBO (and, indeed, other Bayesian optimizers) can find good settings for hyperparameters like these automatically.\n",
    "\n",
    "## Digit Recognition\n",
    "\n",
    "We'll train a classifier on a toy data set provided by [SKLearn](https://scikit-learn.org/stable/datasets/toy_dataset.html), using XGBoost as the model.\n",
    "\n",
    "First, load the data."
   ]
  },
  {
   "cell_type": "code",
   "execution_count": null,
   "metadata": {},
   "outputs": [],
   "source": [
    "from sklearn.datasets import load_digits\n",
    "from sklearn.model_selection import train_test_split\n",
    "import xgboost as xgb\n",
    "\n",
    "np.random.seed(17)\n",
    "digits = load_digits()\n",
    "\n",
    "n_samples = len(digits.images)\n",
    "x_train, x_test, y_train, y_test = train_test_split(\n",
    "    digits.images.reshape((n_samples, -1)), \n",
    "    digits.target, test_size=1/2, shuffle=True\n",
    ")\n",
    "digit_data = (x_train, x_test, y_train, y_test)"
   ]
  },
  {
   "cell_type": "markdown",
   "metadata": {},
   "source": [
    "Next, create a function to measure the quality of a set of hyperparameters, `measure_test_accuracy()`. This function will fit a model and return the average error of its classifications on a test set of data."
   ]
  },
  {
   "cell_type": "code",
   "execution_count": null,
   "metadata": {},
   "outputs": [],
   "source": [
    "def convert_to_hp(x):\n",
    "    x = x.flatten()\n",
    "    return {\n",
    "        'max_depth': int(1 + 7*x[0] + .5),\n",
    "        'subsample': x[1],\n",
    "        'min_child_weight': 1 + 99*x[2],\n",
    "        'colsample_bytree': x[3],\n",
    "        'eta': x[4],\n",
    "        'num_parallel_tree': int(1 + 9*x[5] + .5),\n",
    "    }\n",
    "\n",
    "def measure_test_accuracy(digit_data, x):\n",
    "    x_train, x_test, y_train, y_test = digit_data\n",
    "    xgb_model = xgb.XGBClassifier(\n",
    "        objective=\"binary:logistic\",\n",
    "        **convert_to_hp(x)\n",
    "    )\n",
    "    xgb_model.fit(x_train, y_train)\n",
    "    return xgb_model.score(x_test, y_test)"
   ]
  },
  {
   "cell_type": "markdown",
   "metadata": {},
   "source": [
    "There are six hyperparameters, so this is an optimization in a six-dimensional space (`num_dim=6`). We initialize the optimization by choosing a random set of hyperparameters, described by a point in the six-dimensional space."
   ]
  },
  {
   "cell_type": "code",
   "execution_count": null,
   "metadata": {},
   "outputs": [],
   "source": [
    "np.random.seed(2)\n",
    "num_dim = 6\n",
    "x_m = np.random.uniform(size=(1, num_dim))\n",
    "y_m = np.array([measure_test_accuracy(digit_data, x_m)])\n",
    "\n",
    "y_best = y_m[0]\n",
    "x_best = x_m[0]\n",
    "trace = [y_best]"
   ]
  },
  {
   "cell_type": "markdown",
   "metadata": {},
   "source": [
    "We follow the same pattern as before:\n",
    "\n",
    "    1. Optimize the acquisition function to suggest a new set of hyperparameters to measure\n",
    "    2. Measure them with `measure_test_accuracy()`\n",
    "    3. Repeat until done\n",
    "    \n",
    "That last step is a little discomfiting. One could devise statistical rules to decide when to stop, but the practical answer comes from the problem statement: expensive objective. The number of times you take a measurement may be limited mostly by how much time, money, or risk you can afford to expend on the optimization process. This is called your *budget*. We'll set a budget of 20 iterations for this task."
   ]
  },
  {
   "cell_type": "code",
   "execution_count": null,
   "metadata": {},
   "outputs": [],
   "source": [
    "for _ in range(20):\n",
    "    x = dumbo.optimize(x_m, y_m)\n",
    "    y = measure_test_accuracy(digit_data, x)\n",
    "    x_m = np.append(x_m, x, axis=0)\n",
    "    y_m = np.append(y_m, y)\n",
    "    if y > y_best:\n",
    "        y_best = y\n",
    "        x_best = x\n",
    "    trace.append(y_best)\n",
    "    clear_output(wait=True)\n",
    "    plt.plot(trace, 'k.--');\n",
    "    plt.title(f\"y_best = {y_best:.4f}\")\n",
    "    plt.xlabel('iterations')\n",
    "    plt.ylabel('y, test-set accuracy')\n",
    "    plt.show()\n",
    "    \n",
    "import pprint\n",
    "print (\"The best hyperparameters are:\")\n",
    "pprint.pprint(convert_to_hp(x_best))"
   ]
  },
  {
   "cell_type": "markdown",
   "metadata": {},
   "source": [
    "There you have it. A fine set of hyperparameters, without any guess-work.\n",
    "\n",
    "Before we wrap things up, I'd like to point out that research in Bayesian optimization is [ongoing, varied, and pushing the state of the art](https://arxiv.org/abs/2206.03301). Let's look at an interesting recent development in Bayesian optimization: High-dimensional parameter spaces."
   ]
  },
  {
   "cell_type": "markdown",
   "metadata": {},
   "source": [
    "# High-dimensional problems\n",
    "\n",
    "No algorithm is meant to solve all problems. Bayesian optimization is designed for problems with expensive objectives, where your budget (number of measurements) will be small. Generally speaking, the more parameters you have to optimize the more measurements you'll need. So it stands to reason that Bayesian optimization would only be applied to problems with few parameters. But not everyone is reasonable.\n",
    "\n",
    "Researchers like to try new things, and they like a challenge -- like applying Bayesian optimization to higher-dimensional problems. To make Bayesian optimization viable in high dimensions, you would have to be able to evaluate the objective\n",
    "\n",
    "    - quickly enough so that we could take many measurements, but\n",
    "    - not so quickly that it takes longer to propose a new measurement than to take it\n",
    "\n",
    "That second condition is important because Bayesian optimizers are usually much slower to propose a new `x` to measure than the other optimizers in Table 1. A set of problems that are \"fast enough but not too fast\" and may have many dimensions (parameters) come from simulation and ML/AI hyperparameter optimization.\n",
    "\n",
    "Simulations take many forms. Something called a simulation might take anywhere from milliseconds to days to complete. It depends on the problem. A simulation that consists of a pure function -- ex., the Henon map, used in Chaos research -- might take milliseconds to compute. A simulation that analyzes large amounts of data -- ex., trading \"backtests\" or recommender system simulations -- might take minutes to hours. A still larger, detailed scientific calculation might take days.\n",
    "\n",
    "Also ML/AI models can take any amount of time from seconds to days to fit. Some giant models take even longer.\n",
    "\n",
    "High-dimensional Bayesian optimization is appropriate for objectives that take seconds to multiple minutes to compute.\n",
    "\n",
    "\n",
    "## Curse of dimensionality and Trust Regions\n",
    "\n",
    "The fundamental problem with optimizing in high-dimensional spaces is that there's just so much space! Think of it this way: In the function `optimize()`, we did a grid search in 1D by measuring 10 equally-spaced `x` values. If we extended that approach to 2D, we'd measure a 10x10 grid of `x` values, taking 10x10 = 100 measurements. In 3D, we'd take 10x10x10 = 1000, and so on. See the pattern? If we tried a grid search over 100 parameters, we'd have to measure 10x10x...x10 = 10^100 -- a [googol](https://en.wikipedia.org/wiki/Googol) of measurements. This is called the *curse of dimensionality*.\n",
    "\n",
    "One approach optimization algorithms take to dealing with high-dimensionality is to search only near the best `x` value measured so far. You can have some faith that near the best `x` the objective will be pretty good -- maybe even better than the best so far. This is called *local search*, and the region where you permit searching is called a *trust region*. Bayesian optimization's approach -- by contrast -- of always searching the entire space is called *global search*."
   ]
  },
  {
   "attachments": {},
   "cell_type": "markdown",
   "metadata": {},
   "source": [
    "<center>\n",
    "<figure>\n",
    "    <img src=\"data:image/png;base64,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\" width=\"350\"/>\n",
    "  <figcaption>Figure 1. A trust region</figcaption>\n",
    "</figure>\n",
    "</center>"
   ]
  },
  {
   "cell_type": "markdown",
   "metadata": {},
   "source": [
    "Figure 1 shows a trust region in a 2D parameter space. The circles mark the parameter values where measurements have been taken. The filled circle is the measurement with the highest metric value -- the best measurement so far. The offline optimizer will search only the trust region (the small box) for a new parameter value to measure.\n",
    "\n",
    "A recent paper applies a trust region to Bayesian optimization, creating **T**r**u**st **R**egion **B**ayesian **O**ptimization, or [TuRBO](https://arxiv.org/pdf/1910.01739.pdf).\n",
    "\n",
    "\n",
    "Let's give DumBO a trust region, too. First set the size of the trust region. TuRBO does this based on some cleverness in the GPR and feedback from previous measurements. We'll avoid cleverness and just note that:\n",
    "\n",
    "1. More dimensions means less trust (smaller trust region)\n",
    "2. Start with a large trust region -- the whole space, in fact -- to explore globally and find a probably-better-than-average region of the space. Then shrink the trust region over time.\n",
    "\n",
    "We implement these heuristics like this:\n",
    "```\n",
    "trust_region = max(1.0/num_dim, 1.0/(1 + i_meas))\n",
    "```\n",
    "where `num_dim` is the number of dimensions (or parameters), and `i_meas` is the number of measurements that have been taken so far.\n",
    "\n",
    "\n",
    "Before we dive into this 100-dimensional pool, there's one small problem to fix. If the measurements are noisy, how do you know which one is the best so far? For example, if you have one measurement with `(y,se) = (10,2)` and another with `(y,se) = (11,4)`, which is better? We don't know, but we have to pick one. Fortunately, there's one weird trick for situations like this: Thompson sampling"
   ]
  },
  {
   "cell_type": "markdown",
   "metadata": {},
   "source": [
    "## Thompson Sampling\n",
    "\n",
    "When you have multiple noisy measurements, `m_i = (y_i, se_i)`, and you want to pick a \"best\", i.e., the one with the highest true value (expectation) of `y`. A good strategy is to take a Thompson sample:\n",
    "\n",
    "1. Treat each measurements like a Gaussian distribution, `N(y_i, se_i**2)`, and take one sample from each: `ts_i = y_i + se_i * np.random.normal()`.\n",
    "2. Pick the largest sample: `np.argmax([ts_0, ts_1, ts_2, ...])`.\n",
    "\n",
    "If a Gaussian distribution is good model of the real data-generating process, i.e. what's really happening when you take a measurement, then taking a draw from it is a simulation of a measurement. In step (1) you simulate one measurement of each `m_i`, and each has some probability of being the max, call that `p_max_i`. By picking the max of the samples, in step (2), you are creating the decision rule `p_pick_i = p_max_i`, the probabiility of picking measurement `m_i` is the same as the probability that it would be the maximum if you -- hypotheticall -- were to proceed to really measure all of them.\n",
    "\n",
    "The decision rule, `p_pick_i = p_max_i`, is an optimal strategy for the [multi-armed bandit](https://en.wikipedia.org/wiki/Multi-armed_bandit) problem. In a multi-armed bandit, your job is to find the best `m_i` among a finite set of parameter values. In other words, `x` is [categorical](https://en.wikipedia.org/wiki/Categorical_variable) (like an enum) instead of continuous (like a float).\n",
    "\n",
    "DumBO will pick its max using a Thompson sample, like this:"
   ]
  },
  {
   "cell_type": "code",
   "execution_count": null,
   "metadata": {},
   "outputs": [],
   "source": [
    "def ts_argmax(x_m, y_m, se):\n",
    "    ts = y_m + se*np.random.normal(size=(len(y_m),))\n",
    "    return x_m[np.argmax(ts)]"
   ]
  },
  {
   "cell_type": "markdown",
   "metadata": {},
   "source": [
    "To summarize, one iteration of Bayesian optimization in a high dimensional space will look like this:\n",
    "\n",
    "1. **Thompson sample**: Pick a \"best measurement\"\n",
    "2. **Trust region**: Define a small bounding box around the best measurement\n",
    "3. **Optimization**: Search the trust region for the parameter value that maximizes the acquisition function\n",
    "4. **Measurement**: Run an experiment to measure the parameter value proposed by the optimization\n",
    "\n",
    "We've figured out how to avoid \"over-exploring\" -- use a trust region -- and how to pick a \"best\" measurement even though measurements are noisy. But what about the fact that high-dimensional optimizations require lots of measurements? Bayesian optimization looks at all measurements collected when proposing a new `x` to measure. Therefore, every iteration of the optimization should be a little slower than the last.\n",
    "\n",
    "Recent research has proposed a fix for that, too.\n",
    "\n",
    "## Sparsity\n",
    "\n",
    "To cope with a large number of measurements, Baysian optimizers use various tricks to make the measurement set smaller before using it to propose new measurements. A simple trick might be to just take a random, small subset of the full measurement set and use that. We say that the subset is a \"sparse\" representation of the measurements.\n",
    "\n",
    "Other methods try to choose ad optimal subset or to summarize the measurements into a small number of \"pseduomeasurements\". Whichever sparsification method is used, the result is that the proposal process run more quickly.\n",
    "\n",
    "To sparsify the measurement set, we'll just run the embedded optimizer (`dumbo.optimize()`) over the 50 measurements. Then, no matter how long we run the optimization, no iteration will ever be slower than the 50th iteration.\n",
    "\n",
    "Finally, let's optimize.\n",
    "\n",
    "## DumBO in 100 dimensions\n",
    "\n",
    "Define a measurement \"simulator\" again:\n"
   ]
  },
  {
   "cell_type": "code",
   "execution_count": null,
   "metadata": {},
   "outputs": [],
   "source": [
    "def measure_nd(x):\n",
    "    return float((\n",
    "        -(((x - .3333)**2).mean())\n",
    "       + .1*np.sin(30*x).mean()\n",
    "       + .01*np.random.normal()\n",
    "    ))"
   ]
  },
  {
   "cell_type": "markdown",
   "metadata": {},
   "source": [
    "Optimize as before, except only allow the embedded optimizer to propose `x` values within the trust region, like this:\n",
    "\n",
    "```\n",
    "bounds = np.array( [\n",
    "    np.maximum(0., x_best-trust_region/2),\n",
    "    np.minimum(1., x_best+trust_region/2)\n",
    "] )\n",
    "```\n",
    "\n",
    "\n",
    "The variable `se` tells the noise level of the measurements."
   ]
  },
  {
   "cell_type": "code",
   "execution_count": null,
   "metadata": {},
   "outputs": [],
   "source": [
    "np.random.seed(17)\n",
    "\n",
    "num_dim = 100\n",
    "sparsity_length = 25\n",
    "\n",
    "x_m = np.random.uniform(size=(1, num_dim))\n",
    "y_m = np.array([measure_nd(xx) for xx in x_m])\n",
    "se = .01\n",
    "\n",
    "trace = [y_m[0]]\n",
    "for i_meas in range(100):\n",
    "    trust_region = max(1.0/num_dim, 1.0/(1 + i_meas))\n",
    "    x_best = ts_argmax(x_m, y_m, se)\n",
    "    bounds = np.array( [\n",
    "        np.maximum(0., x_best-trust_region),\n",
    "        np.minimum(1., x_best+trust_region)\n",
    "    ] )\n",
    "        \n",
    "    x = dumbo.optimize(x_m[-sparsity_length:], y_m[-sparsity_length:], num_iterations=1000, bounds=bounds)\n",
    "    y = measure_nd(x)\n",
    "\n",
    "    x_m = np.append(x_m, x, axis=0)\n",
    "    y_m = np.append(y_m, y)\n",
    "    trace.append(y_m.max())\n",
    "    clear_output(wait=True)\n",
    "    #plt.show()\n",
    "    plt.plot(y_m, '.k')\n",
    "    plt.plot(trace, 'k--');\n",
    "    plt.title(f\"y_best = {y_m.max():.4f}\\ntrust_region = {trust_region:.3f}\")\n",
    "    plt.xlabel('iteration')\n",
    "    plt.ylabel('y')\n",
    "    plt.legend(['y_m', 'y, max so far'], 'lower right')\n",
    "    plt.show()"
   ]
  },
  {
   "cell_type": "markdown",
   "metadata": {},
   "source": [
    "Notice how the measured values, `y_m`, are near the max-so-far dashed line. The nearness is caused by the trust region. It restricts proposed measurements to be close -- in `x` -- to the max-so-far measurements, so they also fall close in `y`.\n",
    "\n",
    "Higher-dimensional Bayesian optimization is enabled by a trust region, Thompson sampling, and sparsity.\n",
    "A trust region limits global exploration. Thompson sampling finds the best measurement among noisy measurements, which becomes the center of the trust region. Sparsity keeps the time to calculate a proposal from increasing inordinately with the number of iterations of the algorithm."
   ]
  },
  {
   "cell_type": "markdown",
   "metadata": {},
   "source": [
    "## Awesome Bayesian Optimization\n",
    "\n",
    "Bayesian optimization is a powerful, flexible, and adaptable approach to optimization. We saw in this article that it can be used for noisy, expensive-objective problems, like tuning production engineered systems. It can also be applied to higher-dimension problems, such as optimizing moderately-fast simulations.\n",
    "\n",
    "There are yet more tools in the Bayesian optimization toolkit. It can support:\n",
    "\n",
    "- [Mixed variable types](https://ax.dev/docs/models.html): You may optimize over continuous variables -- as we did here -- as well as ordinal (i.e., integer) and categorical (ex., boolean or enum) ones.\n",
    "- [Multiple objectives](https://botorch.org/docs/multi_objective): Your system may have more than one important metric. You might care about revenue as well as direct measures of customer engagement or satisfaction, for example. You can meaningfully consider all of them while optimizing.\n",
    "- [Multiple fidelities](https://botorch.org/tutorials/Multi_objective_multi_fidelity_BO): If you want to optimize a production system *and* you have a simulator of that system, you can incorporate measures taken from both. The simulated measurements are cheap to make and useful information that guides the search for higher production metrics.\n",
    "- [Contraints](https://botorch.org/docs/constraints): Sometimes, while optimizing one metric, you may desire to not harm a different metric. You want to constrain the second matric by a lower bound. Bayesian optimization supports those kind of constraints.\n",
    "- Arbitrary measurements: You can build a surrogate with any available measurements. You might, for example, take measurements at parameter values that you've trusted in the past or simply suspect will perform well. In this way you can incorporate your domain knowledge into the optimization process.\n",
    "\n",
    "\n",
    "Each of these features can be useful in optimizing an industrial system. To start simple, you might try [Ax's service interface](https://ax.dev/versions/0.1.0/tutorials/gpei_hartmann_service.html), then, as your needs become more complex or specific to your system, switch to the [developer API](https://ax.dev/tutorials/gpei_hartmann_developer.html). If you'd like to research or develop your own surrogate or acquisition function, delve into [BoTorch](https://github.com/pytorch/botorch), the lower-level toolkit upon which Ax is built."
   ]
  },
  {
   "cell_type": "markdown",
   "metadata": {},
   "source": [
    "## Conclusion\n",
    "\n",
    "I hope you're convinced of the importance of experimental optimization in industrial settings, and of both the power and flexibility of Bayesian optimization as a method. Additionally, I hope following the development of DumBO has made the basics of Bayesian optimization clear.\n",
    "\n",
    "You may find this article, formatted as a [Jupyter notebook](https://github.com/dsweet99/dumbo/blob/main/DumBO.ipynb), in [GitHub](https://github.com/dsweet99/dumbo), along with all of the DumBO code.\n",
    "\n"
   ]
  }
 ],
 "metadata": {
  "language_info": {
   "name": "python",
   "pygments_lexer": "ipython3"
  }
 },
 "nbformat": 4,
 "nbformat_minor": 1
}
